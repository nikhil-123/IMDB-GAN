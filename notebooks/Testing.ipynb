{
 "cells": [
  {
   "cell_type": "code",
   "execution_count": 1,
   "metadata": {},
   "outputs": [],
   "source": [
    "import numpy as np"
   ]
  },
  {
   "cell_type": "code",
   "execution_count": 2,
   "metadata": {},
   "outputs": [
    {
     "data": {
      "text/plain": [
       "array([[ 0,  1,  2,  3,  4],\n",
       "       [ 5,  6,  7,  8,  9],\n",
       "       [10, 11, 12, 13, 14],\n",
       "       [15, 16, 17, 18, 19],\n",
       "       [20, 21, 22, 23, 24],\n",
       "       [25, 26, 27, 28, 29],\n",
       "       [30, 31, 32, 33, 34],\n",
       "       [35, 36, 37, 38, 39],\n",
       "       [40, 41, 42, 43, 44],\n",
       "       [45, 46, 47, 48, 49]])"
      ]
     },
     "execution_count": 2,
     "metadata": {},
     "output_type": "execute_result"
    }
   ],
   "source": [
    "n_samples = 10\n",
    "max_len = 5\n",
    "max_int = n_samples*max_len\n",
    "x = np.arange(n_samples*max_len).reshape((n_samples, max_len))\n",
    "x"
   ]
  },
  {
   "cell_type": "code",
   "execution_count": 3,
   "metadata": {},
   "outputs": [
    {
     "data": {
      "text/plain": [
       "array([ 0,  1,  2,  3,  4,  5,  6,  7,  8,  9, 10, 11, 12, 13, 14, 15, 16,\n",
       "       17, 18, 19, 20, 21, 22, 23, 24, 25, 26, 27, 28, 29, 30, 31, 32, 33,\n",
       "       34, 35, 36, 37, 38, 39, 40, 41, 42, 43, 44, 45, 46, 47, 48, 49])"
      ]
     },
     "execution_count": 3,
     "metadata": {},
     "output_type": "execute_result"
    }
   ],
   "source": [
    "x.flatten()"
   ]
  },
  {
   "cell_type": "code",
   "execution_count": 4,
   "metadata": {},
   "outputs": [
    {
     "data": {
      "text/plain": [
       "(10, 5, 50)"
      ]
     },
     "execution_count": 4,
     "metadata": {},
     "output_type": "execute_result"
    }
   ],
   "source": [
    "y = np.zeros((n_samples, max_len, max_int))\n",
    "y.shape"
   ]
  },
  {
   "cell_type": "code",
   "execution_count": 5,
   "metadata": {},
   "outputs": [
    {
     "name": "stderr",
     "output_type": "stream",
     "text": [
      "Using TensorFlow backend.\n"
     ]
    }
   ],
   "source": [
    "from keras.utils import np_utils"
   ]
  },
  {
   "cell_type": "code",
   "execution_count": 6,
   "metadata": {},
   "outputs": [
    {
     "data": {
      "text/plain": [
       "(10, 5, 50)"
      ]
     },
     "execution_count": 6,
     "metadata": {},
     "output_type": "execute_result"
    }
   ],
   "source": [
    "y_cat = np_utils.to_categorical(x, num_classes=max_int)\n",
    "y_cat.shape"
   ]
  },
  {
   "cell_type": "code",
   "execution_count": 9,
   "metadata": {},
   "outputs": [
    {
     "data": {
      "text/plain": [
       "(20, 10, 5)"
      ]
     },
     "execution_count": 9,
     "metadata": {},
     "output_type": "execute_result"
    }
   ],
   "source": [
    "preds = np.random.rand(20,10,5)\n",
    "preds.shape"
   ]
  },
  {
   "cell_type": "code",
   "execution_count": 14,
   "metadata": {},
   "outputs": [
    {
     "data": {
      "text/plain": [
       "(20, 10)"
      ]
     },
     "execution_count": 14,
     "metadata": {},
     "output_type": "execute_result"
    }
   ],
   "source": [
    "decoded = np.zeros((preds.shape[0], preds.shape[1]))\n",
    "decoded.shape"
   ]
  },
  {
   "cell_type": "code",
   "execution_count": 19,
   "metadata": {},
   "outputs": [],
   "source": [
    "for i in range(preds.shape[0]):\n",
    "    for j in range(preds.shape[1]):\n",
    "        decoded[i, j] = np.argmax(preds[i, j])"
   ]
  },
  {
   "cell_type": "code",
   "execution_count": 20,
   "metadata": {},
   "outputs": [
    {
     "data": {
      "text/plain": [
       "array([[2., 0., 3., 0., 3., 0., 1., 2., 2., 2.],\n",
       "       [0., 1., 1., 3., 1., 1., 2., 2., 2., 4.],\n",
       "       [0., 3., 2., 1., 1., 3., 1., 4., 2., 1.],\n",
       "       [1., 1., 3., 4., 2., 4., 2., 0., 4., 4.],\n",
       "       [3., 4., 0., 4., 1., 2., 1., 1., 0., 2.],\n",
       "       [2., 1., 1., 0., 1., 0., 4., 4., 3., 1.],\n",
       "       [1., 4., 3., 1., 1., 1., 4., 2., 4., 2.],\n",
       "       [2., 4., 1., 0., 0., 3., 3., 0., 1., 1.],\n",
       "       [0., 2., 2., 0., 4., 4., 2., 1., 3., 4.],\n",
       "       [0., 0., 2., 4., 3., 3., 4., 4., 0., 2.],\n",
       "       [3., 3., 0., 2., 4., 0., 4., 2., 1., 4.],\n",
       "       [0., 0., 2., 1., 3., 1., 3., 4., 1., 1.],\n",
       "       [0., 1., 2., 3., 2., 2., 4., 2., 2., 1.],\n",
       "       [2., 3., 4., 1., 1., 1., 3., 4., 1., 0.],\n",
       "       [0., 1., 1., 4., 0., 1., 1., 4., 3., 3.],\n",
       "       [2., 1., 1., 2., 3., 0., 1., 0., 1., 4.],\n",
       "       [1., 3., 0., 1., 1., 3., 2., 2., 3., 4.],\n",
       "       [3., 1., 4., 4., 2., 0., 3., 0., 2., 1.],\n",
       "       [1., 0., 1., 3., 2., 1., 0., 4., 0., 4.],\n",
       "       [3., 1., 2., 1., 0., 0., 4., 3., 0., 2.]])"
      ]
     },
     "execution_count": 20,
     "metadata": {},
     "output_type": "execute_result"
    }
   ],
   "source": [
    "decoded"
   ]
  },
  {
   "cell_type": "code",
   "execution_count": 21,
   "metadata": {},
   "outputs": [
    {
     "data": {
      "text/plain": [
       "'.txt'"
      ]
     },
     "execution_count": 21,
     "metadata": {},
     "output_type": "execute_result"
    }
   ],
   "source": [
    "fn = 'preds_generative_.h5'\n",
    "fn[fn.rfind('/'):fn.rfind('.')] + '.txt'"
   ]
  },
  {
   "cell_type": "code",
   "execution_count": null,
   "metadata": {},
   "outputs": [],
   "source": []
  }
 ],
 "metadata": {
  "kernelspec": {
   "display_name": "Python 3",
   "language": "python",
   "name": "python3"
  },
  "language_info": {
   "codemirror_mode": {
    "name": "ipython",
    "version": 3
   },
   "file_extension": ".py",
   "mimetype": "text/x-python",
   "name": "python",
   "nbconvert_exporter": "python",
   "pygments_lexer": "ipython3",
   "version": "3.6.5"
  }
 },
 "nbformat": 4,
 "nbformat_minor": 2
}
